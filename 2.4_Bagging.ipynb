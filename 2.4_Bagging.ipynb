{
 "cells": [
  {
   "cell_type": "markdown",
   "metadata": {},
   "source": [
    "# Бэггинг и случайный лес"
   ]
  },
  {
   "cell_type": "code",
   "execution_count": 1,
   "metadata": {
    "ExecuteTime": {
     "end_time": "2021-02-06T16:20:27.391954Z",
     "start_time": "2021-02-06T16:20:26.779979Z"
    }
   },
   "outputs": [],
   "source": [
    "%matplotlib inline\n",
    "\n",
    "import matplotlib.pyplot as plt"
   ]
  },
  {
   "cell_type": "code",
   "execution_count": 2,
   "metadata": {
    "ExecuteTime": {
     "end_time": "2021-02-06T16:20:30.582222Z",
     "start_time": "2021-02-06T16:20:27.391954Z"
    }
   },
   "outputs": [],
   "source": [
    "from sklearn.datasets import load_digits\n",
    "from sklearn.model_selection import cross_val_score, validation_curve\n",
    "from sklearn.tree import DecisionTreeClassifier\n",
    "from sklearn.ensemble import BaggingClassifier, RandomForestClassifier\n",
    "\n",
    "import numpy as np\n",
    "import seaborn as sns"
   ]
  },
  {
   "cell_type": "markdown",
   "metadata": {},
   "source": [
    "Загрузка датасета digits с помощью функции load_digits из sklearn.datasets и подготовка матрицы признаков X и ответов на обучающей выборке y (потребуются поля data и target в объекте, который возвращает load_digits)."
   ]
  },
  {
   "cell_type": "code",
   "execution_count": 3,
   "metadata": {
    "ExecuteTime": {
     "end_time": "2021-02-06T16:20:30.978693Z",
     "start_time": "2021-02-06T16:20:30.585841Z"
    }
   },
   "outputs": [
    {
     "data": {
      "text/plain": [
       "<matplotlib.image.AxesImage at 0x1194bdf75e0>"
      ]
     },
     "execution_count": 3,
     "metadata": {},
     "output_type": "execute_result"
    },
    {
     "data": {
      "image/png": "[encoded data removed]",
      "text/plain": [
       "<Figure size 432x288 with 1 Axes>"
      ]
     },
     "metadata": {
      "needs_background": "light"
     },
     "output_type": "display_data"
    }
   ],
   "source": [
    "digits = load_digits()\n",
    "plt.imshow(digits.images[0])"
   ]
  },
  {
   "cell_type": "code",
   "execution_count": 4,
   "metadata": {
    "ExecuteTime": {
     "end_time": "2021-02-06T16:20:30.994137Z",
     "start_time": "2021-02-06T16:20:30.978693Z"
    }
   },
   "outputs": [],
   "source": [
    "X = digits.data\n",
    "y = digits.target"
   ]
  },
  {
   "cell_type": "markdown",
   "metadata": {},
   "source": [
    "### DecisionTreeClassifier с настройками по умолчанию"
   ]
  },
  {
   "cell_type": "code",
   "execution_count": 5,
   "metadata": {
    "ExecuteTime": {
     "end_time": "2021-02-06T16:20:31.026146Z",
     "start_time": "2021-02-06T16:20:30.994137Z"
    }
   },
   "outputs": [],
   "source": [
    "dt_cls = DecisionTreeClassifier()"
   ]
  },
  {
   "cell_type": "code",
   "execution_count": 6,
   "metadata": {
    "ExecuteTime": {
     "end_time": "2021-02-06T16:20:31.283441Z",
     "start_time": "2021-02-06T16:20:31.026146Z"
    }
   },
   "outputs": [],
   "source": [
    "cvs = cross_val_score(dt_cls, X, y, cv=10)"
   ]
  },
  {
   "cell_type": "code",
   "execution_count": 7,
   "metadata": {
    "ExecuteTime": {
     "end_time": "2021-02-06T16:20:31.300289Z",
     "start_time": "2021-02-06T16:20:31.283441Z"
    }
   },
   "outputs": [
    {
     "name": "stdout",
     "output_type": "stream",
     "text": [
      "[0.8        0.83888889 0.82777778 0.82777778 0.78333333 0.87222222\n",
      " 0.88333333 0.83240223 0.81005587 0.80446927]\n",
      "Mean score: 0.8280260707635009\n"
     ]
    }
   ],
   "source": [
    "print(cvs)\n",
    "print('Mean score: ' + str(cvs.mean()))"
   ]
  },
  {
   "cell_type": "markdown",
   "metadata": {},
   "source": [
    "### Бэггинг над DecisionTreeClassifier со 100 деревьями"
   ]
  },
  {
   "cell_type": "code",
   "execution_count": 8,
   "metadata": {
    "ExecuteTime": {
     "end_time": "2021-02-06T16:20:31.324316Z",
     "start_time": "2021-02-06T16:20:31.300289Z"
    }
   },
   "outputs": [],
   "source": [
    "bagging = BaggingClassifier(dt_cls, n_estimators=100)"
   ]
  },
  {
   "cell_type": "code",
   "execution_count": 9,
   "metadata": {
    "ExecuteTime": {
     "end_time": "2021-02-06T16:20:52.428038Z",
     "start_time": "2021-02-06T16:20:31.332298Z"
    }
   },
   "outputs": [],
   "source": [
    "cvs = cross_val_score(bagging, X, y, cv=10)"
   ]
  },
  {
   "cell_type": "code",
   "execution_count": 10,
   "metadata": {
    "ExecuteTime": {
     "end_time": "2021-02-06T16:20:52.444043Z",
     "start_time": "2021-02-06T16:20:52.428038Z"
    }
   },
   "outputs": [
    {
     "name": "stdout",
     "output_type": "stream",
     "text": [
      "[0.86666667 0.95       0.9        0.93888889 0.92222222 0.97222222\n",
      " 0.96666667 0.91061453 0.86592179 0.90502793]\n",
      "Mean score: 0.9198230912476724\n"
     ]
    }
   ],
   "source": [
    "print(cvs)\n",
    "print('Mean score: ' + str(cvs.mean()))"
   ]
  },
  {
   "cell_type": "markdown",
   "metadata": {},
   "source": [
    "### Бэггинг на $\\sqrt{d}$ случайных признаках"
   ]
  },
  {
   "cell_type": "code",
   "execution_count": 11,
   "metadata": {
    "ExecuteTime": {
     "end_time": "2021-02-06T16:20:52.460046Z",
     "start_time": "2021-02-06T16:20:52.444043Z"
    }
   },
   "outputs": [],
   "source": [
    "n_features = digits.data.shape[1]\n",
    "bagging = BaggingClassifier(dt_cls, n_estimators=100, max_features=int(np.sqrt(n_features)))"
   ]
  },
  {
   "cell_type": "code",
   "execution_count": 12,
   "metadata": {
    "ExecuteTime": {
     "end_time": "2021-02-06T16:20:58.707396Z",
     "start_time": "2021-02-06T16:20:52.460046Z"
    }
   },
   "outputs": [],
   "source": [
    "cvs = cross_val_score(bagging, X, y, cv=10)"
   ]
  },
  {
   "cell_type": "code",
   "execution_count": 13,
   "metadata": {
    "ExecuteTime": {
     "end_time": "2021-02-06T16:20:58.724680Z",
     "start_time": "2021-02-06T16:20:58.707396Z"
    }
   },
   "outputs": [
    {
     "name": "stdout",
     "output_type": "stream",
     "text": [
      "[0.88888889 0.94444444 0.92222222 0.87777778 0.94444444 0.95555556\n",
      " 0.96666667 0.97765363 0.89385475 0.90502793]\n",
      "Mean score: 0.9276536312849164\n"
     ]
    }
   ],
   "source": [
    "print(cvs)\n",
    "print('Mean score: ' + str(cvs.mean()))"
   ]
  },
  {
   "cell_type": "markdown",
   "metadata": {},
   "source": [
    "### Бэггинг на рандомизированных деревьях"
   ]
  },
  {
   "cell_type": "code",
   "execution_count": 14,
   "metadata": {
    "ExecuteTime": {
     "end_time": "2021-02-06T16:20:58.745646Z",
     "start_time": "2021-02-06T16:20:58.724680Z"
    }
   },
   "outputs": [],
   "source": [
    "dt_cls = DecisionTreeClassifier(max_features=int(np.sqrt(n_features)))\n",
    "bagging = BaggingClassifier(dt_cls, n_estimators=100)"
   ]
  },
  {
   "cell_type": "code",
   "execution_count": 15,
   "metadata": {
    "ExecuteTime": {
     "end_time": "2021-02-06T16:21:05.470513Z",
     "start_time": "2021-02-06T16:20:58.746170Z"
    }
   },
   "outputs": [],
   "source": [
    "cvs = cross_val_score(bagging, X, y, cv=10)"
   ]
  },
  {
   "cell_type": "code",
   "execution_count": 16,
   "metadata": {
    "ExecuteTime": {
     "end_time": "2021-02-06T16:21:05.487602Z",
     "start_time": "2021-02-06T16:21:05.470513Z"
    }
   },
   "outputs": [
    {
     "name": "stdout",
     "output_type": "stream",
     "text": [
      "[0.92222222 0.97777778 0.93888889 0.94444444 0.96666667 0.97777778\n",
      " 0.96666667 0.95530726 0.94413408 0.94413408]\n",
      "Mean score: 0.9538019863438857\n"
     ]
    }
   ],
   "source": [
    "print(cvs)\n",
    "print('Mean score: ' + str(cvs.mean()))"
   ]
  }
 ],
 "metadata": {
  "kernelspec": {
   "display_name": "Python 3",
   "language": "python",
   "name": "python3"
  },
  "language_info": {
   "codemirror_mode": {
    "name": "ipython",
    "version": 3
   },
   "file_extension": ".py",
   "mimetype": "text/x-python",
   "name": "python",
   "nbconvert_exporter": "python",
   "pygments_lexer": "ipython3",
   "version": "3.8.3"
  },
  "varInspector": {
   "cols": {
    "lenName": 16,
    "lenType": 16,
    "lenVar": 40
   },
   "kernels_config": {
    "python": {
     "delete_cmd_postfix": "",
     "delete_cmd_prefix": "del ",
     "library": "var_list.py",
     "varRefreshCmd": "print(var_dic_list())"
    },
    "r": {
     "delete_cmd_postfix": ") ",
     "delete_cmd_prefix": "rm(",
     "library": "var_list.r",
     "varRefreshCmd": "cat(var_dic_list()) "
    }
   },
   "types_to_exclude": [
    "module",
    "function",
    "builtin_function_or_method",
    "instance",
    "_Feature"
   ],
   "window_display": false
  }
 },
 "nbformat": 4,
 "nbformat_minor": 2
}
